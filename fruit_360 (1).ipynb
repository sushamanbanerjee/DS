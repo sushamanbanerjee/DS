{
 "cells": [
  {
   "cell_type": "code",
   "execution_count": 1,
   "metadata": {},
   "outputs": [
    {
     "name": "stderr",
     "output_type": "stream",
     "text": [
      "c:\\Users\\JOJO\\AppData\\Local\\Programs\\Python\\Python311\\Lib\\site-packages\\tqdm\\auto.py:21: TqdmWarning: IProgress not found. Please update jupyter and ipywidgets. See https://ipywidgets.readthedocs.io/en/stable/user_install.html\n",
      "  from .autonotebook import tqdm as notebook_tqdm\n"
     ]
    }
   ],
   "source": [
    "import torch\n",
    "import torch.nn as nn\n",
    "import torch.optim as optim\n",
    "import torchvision.transforms as transforms\n",
    "from torch.utils.data import DataLoader, Dataset\n",
    "from sklearn.decomposition import PCA\n",
    "from sklearn.metrics import accuracy_score, precision_score, f1_score\n",
    "import cv2\n",
    "import numpy as np\n",
    "import os\n",
    "from skimage.feature import graycomatrix, graycoprops\n",
    "from sklearn.preprocessing import StandardScaler\n",
    "from torchvision import datasets\n",
    "import random"
   ]
  },
  {
   "cell_type": "code",
   "execution_count": 2,
   "metadata": {},
   "outputs": [],
   "source": [
    "class Fruits360Dataset(Dataset):\n",
    "    def __init__(self, data_dir, transform=None, selected_classes=None):\n",
    "        self.data_dir = data_dir\n",
    "        self.transform = transform\n",
    "        self.selected_classes = selected_classes\n",
    "        self.image_paths = []\n",
    "        self.labels = []\n",
    "        \n",
    "        for i, class_name in enumerate(self.selected_classes):\n",
    "            class_dir = os.path.join(self.data_dir, class_name)\n",
    "            for img_name in os.listdir(class_dir):\n",
    "                img_path = os.path.join(class_dir, img_name)\n",
    "                self.image_paths.append(img_path)\n",
    "                self.labels.append(i)\n",
    "\n",
    "    def __len__(self):\n",
    "        return len(self.image_paths)\n",
    "\n",
    "    def __getitem__(self, idx):\n",
    "        img_path = self.image_paths[idx]\n",
    "        image = cv2.imread(img_path)\n",
    "        image = cv2.cvtColor(image, cv2.COLOR_BGR2GRAY)\n",
    "        label = self.labels[idx]\n",
    "        \n",
    "        image = cv2.resize(image, (100, 100))\n",
    "        \n",
    "        if self.transform:\n",
    "            image = self.transform(image)\n",
    "        \n",
    "        # pca_features = self.pca_transform(image)\n",
    "        sift_features = self.extract_sift(image)\n",
    "        glcm_features = self.extract_glcm(image)\n",
    "\n",
    "        features = np.concatenate((sift_features, glcm_features), axis=0)\n",
    "        \n",
    "        return torch.tensor(features, dtype=torch.float32), label\n",
    "\n",
    "    def extract_sift(self, image):\n",
    "        sift = cv2.SIFT_create()\n",
    "        keypoints, descriptors = sift.detectAndCompute(image, None)\n",
    "        if descriptors is None:\n",
    "            return np.zeros((128,))\n",
    "        return np.mean(descriptors, axis=0)\n",
    "\n",
    "    def extract_glcm(self, image):\n",
    "        glcm = graycomatrix(image, distances=[1], angles=[0], levels=256, symmetric=True, normed=True)\n",
    "        contrast = graycoprops(glcm, 'contrast')[0, 0]\n",
    "        homogeneity = graycoprops(glcm, 'homogeneity')[0, 0]\n",
    "        return np.array([contrast, homogeneity])\n",
    "\n",
    "    def pca_transform(self, image):\n",
    "        flat_img = image.flatten().reshape(1, -1)\n",
    "        pca = PCA(n_components=20)\n",
    "        return pca.fit_transform(flat_img).flatten()\n",
    "\n",
    "class CNNModel(nn.Module):\n",
    "    def __init__(self, input_size, num_classes):\n",
    "        super(CNNModel, self).__init__()\n",
    "        self.fc1 = nn.Linear(input_size, 512)\n",
    "        self.fc2 = nn.Linear(512, 256)\n",
    "        self.fc3 = nn.Linear(256, 128)\n",
    "        self.fc4 = nn.Linear(128, 64)\n",
    "        self.fc5 = nn.Linear(64, num_classes)\n",
    "\n",
    "    def forward(self, x):\n",
    "        x = torch.relu(self.fc1(x))\n",
    "        x = torch.relu(self.fc2(x))\n",
    "        x = torch.relu(self.fc3(x))\n",
    "        x = torch.relu(self.fc4(x))\n",
    "        x = self.fc5(x)\n",
    "        return x\n"
   ]
  },
  {
   "cell_type": "code",
   "execution_count": 3,
   "metadata": {},
   "outputs": [],
   "source": [
    "data_dir = \"./fruits\"\n",
    "test_dir = \"./test_fruits\"\n",
    "selected_classes = [\"Banana 1\", \"Banana Lady Finger 1\", \"Banana Red 1\"]\n",
    "transform = transforms.Compose([transforms.ToTensor()])\n",
    "\n",
    "dataset = Fruits360Dataset(data_dir, transform=None, selected_classes=selected_classes)\n",
    "test_dataset = Fruits360Dataset(test_dir, transform=None, selected_classes=selected_classes)\n",
    "train_loader = DataLoader(dataset, batch_size=32, shuffle=True)\n",
    "test_loader = DataLoader(test_dataset, batch_size=32, shuffle=True)\n",
    "\n",
    "input_size = 128 + 2  # SIFT(128), GLCM(2)\n",
    "num_classes = len(selected_classes)\n",
    "model = CNNModel(input_size=input_size, num_classes=num_classes)\n",
    "\n",
    "criterion = nn.CrossEntropyLoss()\n",
    "optimizer = optim.Adam(model.parameters(), lr=0.001)"
   ]
  },
  {
   "cell_type": "code",
   "execution_count": 4,
   "metadata": {},
   "outputs": [],
   "source": [
    "def train_model(model, train_loader, num_epochs=10):\n",
    "    for epoch in range(num_epochs):\n",
    "        model.train()\n",
    "        running_loss = 0.0\n",
    "        for inputs, labels in train_loader:\n",
    "            optimizer.zero_grad()\n",
    "            outputs = model(inputs)\n",
    "            loss = criterion(outputs, labels)\n",
    "            loss.backward()\n",
    "            optimizer.step()\n",
    "            running_loss += loss.item()\n",
    "        print(f'Epoch {epoch+1}/{num_epochs}, Loss: {running_loss/len(train_loader)}')\n"
   ]
  },
  {
   "cell_type": "code",
   "execution_count": 5,
   "metadata": {},
   "outputs": [],
   "source": [
    "def evaluate_model(model, train_loader):\n",
    "    model.eval()\n",
    "    y_true = []\n",
    "    y_pred = []\n",
    "    with torch.no_grad():\n",
    "        for inputs, labels in train_loader:\n",
    "            outputs = model(inputs)\n",
    "            _, predicted = torch.max(outputs, 1)\n",
    "            y_true.extend(labels.numpy())\n",
    "            y_pred.extend(predicted.numpy())\n",
    "    \n",
    "    accuracy = accuracy_score(y_true, y_pred)\n",
    "    precision = precision_score(y_true, y_pred, average='macro')\n",
    "    f1 = f1_score(y_true, y_pred, average='macro')\n",
    "    \n",
    "    print(f'Accuracy: {accuracy}')\n",
    "    print(f'Precision: {precision}')\n",
    "    print(f'F1 Score: {f1}')"
   ]
  },
  {
   "cell_type": "code",
   "execution_count": 6,
   "metadata": {},
   "outputs": [
    {
     "name": "stdout",
     "output_type": "stream",
     "text": [
      "Epoch 1/10, Loss: 0.5057341373629041\n",
      "Epoch 2/10, Loss: 0.19403033388985527\n",
      "Epoch 3/10, Loss: 0.20189508414930768\n",
      "Epoch 4/10, Loss: 0.09502367230339183\n",
      "Epoch 5/10, Loss: 0.072396225689186\n",
      "Epoch 6/10, Loss: 0.06587015695145561\n",
      "Epoch 7/10, Loss: 0.07433514073491096\n",
      "Epoch 8/10, Loss: 0.09086800155540307\n",
      "Epoch 9/10, Loss: 0.04204151162670718\n",
      "Epoch 10/10, Loss: 0.05186029197906868\n",
      "Accuracy: 0.993006993006993\n",
      "Precision: 0.9932900325582162\n",
      "F1 Score: 0.993088905270743\n"
     ]
    }
   ],
   "source": [
    "train_model(model, train_loader, num_epochs=10)\n",
    "evaluate_model(model, train_loader)"
   ]
  },
  {
   "cell_type": "code",
   "execution_count": 8,
   "metadata": {},
   "outputs": [
    {
     "name": "stdout",
     "output_type": "stream",
     "text": [
      "Test score : \n",
      "Accuracy: 0.9256198347107438\n",
      "Precision: 0.9311926843841737\n",
      "F1 Score: 0.9257751037412055\n"
     ]
    }
   ],
   "source": [
    "print(\"Test score : \")\n",
    "evaluate_model(model, test_loader)"
   ]
  }
 ],
 "metadata": {
  "kernelspec": {
   "display_name": "Python 3",
   "language": "python",
   "name": "python3"
  },
  "language_info": {
   "codemirror_mode": {
    "name": "ipython",
    "version": 3
   },
   "file_extension": ".py",
   "mimetype": "text/x-python",
   "name": "python",
   "nbconvert_exporter": "python",
   "pygments_lexer": "ipython3",
   "version": "3.11.3"
  }
 },
 "nbformat": 4,
 "nbformat_minor": 2
}
